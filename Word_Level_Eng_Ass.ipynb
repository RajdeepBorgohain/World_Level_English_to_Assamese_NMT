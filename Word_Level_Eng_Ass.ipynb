{
  "nbformat": 4,
  "nbformat_minor": 0,
  "metadata": {
    "colab": {
      "name": "Word-Level Eng - Ass",
      "provenance": [],
      "collapsed_sections": [
        "ddz9GClo859a"
      ],
      "machine_shape": "hm"
    },
    "kernelspec": {
      "name": "python3",
      "display_name": "Python 3"
    },
    "language_info": {
      "name": "python"
    },
    "accelerator": "GPU"
  },
  "cells": [
    {
      "cell_type": "code",
      "source": [
        "!apt-get install -y -qq software-properties-common python-software-properties module-init-tools\n",
        "!add-apt-repository -y ppa:alessandro-strada/ppa 2>&1 > /dev/null\n",
        "!apt-get update -qq 2>&1 > /dev/null\n",
        "!apt-get -y install -qq google-drive-ocamlfuse fuse\n",
        "from google.colab import auth\n",
        "auth.authenticate_user()\n",
        "from oauth2client.client import GoogleCredentials\n",
        "creds = GoogleCredentials.get_application_default()\n",
        "import getpass\n",
        "!google-drive-ocamlfuse -headless -id={creds.client_id} -secret={creds.client_secret} < /dev/null 2>&1 | grep URL\n",
        "vcode = getpass.getpass()\n",
        "!echo {vcode} | google-drive-ocamlfuse -headless -id={creds.client_id} -secret={creds.client_secret}\n",
        "%cd /content\n",
        "!mkdir drive\n",
        "%cd drive\n",
        "!mkdir MyDrive\n",
        "%cd ..\n",
        "%cd ..\n",
        "!google-drive-ocamlfuse /content/drive/MyDrive"
      ],
      "metadata": {
        "id": "8Bco9Boj8bNO"
      },
      "execution_count": null,
      "outputs": []
    },
    {
      "cell_type": "markdown",
      "source": [
        "### Import Libs"
      ],
      "metadata": {
        "id": "ddz9GClo859a"
      }
    },
    {
      "cell_type": "code",
      "execution_count": 2,
      "metadata": {
        "colab": {
          "base_uri": "https://localhost:8080/"
        },
        "id": "g7DXEbPU6IVo",
        "outputId": "fbd14190-ef2a-4239-adb3-010e726084f1"
      },
      "outputs": [
        {
          "output_type": "stream",
          "name": "stdout",
          "text": [
            "[nltk_data] Downloading collection 'all'\n",
            "[nltk_data]    | \n",
            "[nltk_data]    | Downloading package abc to /root/nltk_data...\n",
            "[nltk_data]    |   Unzipping corpora/abc.zip.\n",
            "[nltk_data]    | Downloading package alpino to /root/nltk_data...\n",
            "[nltk_data]    |   Unzipping corpora/alpino.zip.\n",
            "[nltk_data]    | Downloading package averaged_perceptron_tagger to\n",
            "[nltk_data]    |     /root/nltk_data...\n",
            "[nltk_data]    |   Unzipping taggers/averaged_perceptron_tagger.zip.\n",
            "[nltk_data]    | Downloading package averaged_perceptron_tagger_ru to\n",
            "[nltk_data]    |     /root/nltk_data...\n",
            "[nltk_data]    |   Unzipping\n",
            "[nltk_data]    |       taggers/averaged_perceptron_tagger_ru.zip.\n",
            "[nltk_data]    | Downloading package basque_grammars to\n",
            "[nltk_data]    |     /root/nltk_data...\n",
            "[nltk_data]    |   Unzipping grammars/basque_grammars.zip.\n",
            "[nltk_data]    | Downloading package biocreative_ppi to\n",
            "[nltk_data]    |     /root/nltk_data...\n",
            "[nltk_data]    |   Unzipping corpora/biocreative_ppi.zip.\n",
            "[nltk_data]    | Downloading package bllip_wsj_no_aux to\n",
            "[nltk_data]    |     /root/nltk_data...\n",
            "[nltk_data]    |   Unzipping models/bllip_wsj_no_aux.zip.\n",
            "[nltk_data]    | Downloading package book_grammars to\n",
            "[nltk_data]    |     /root/nltk_data...\n",
            "[nltk_data]    |   Unzipping grammars/book_grammars.zip.\n",
            "[nltk_data]    | Downloading package brown to /root/nltk_data...\n",
            "[nltk_data]    |   Unzipping corpora/brown.zip.\n",
            "[nltk_data]    | Downloading package brown_tei to /root/nltk_data...\n",
            "[nltk_data]    |   Unzipping corpora/brown_tei.zip.\n",
            "[nltk_data]    | Downloading package cess_cat to /root/nltk_data...\n",
            "[nltk_data]    |   Unzipping corpora/cess_cat.zip.\n",
            "[nltk_data]    | Downloading package cess_esp to /root/nltk_data...\n",
            "[nltk_data]    |   Unzipping corpora/cess_esp.zip.\n",
            "[nltk_data]    | Downloading package chat80 to /root/nltk_data...\n",
            "[nltk_data]    |   Unzipping corpora/chat80.zip.\n",
            "[nltk_data]    | Downloading package city_database to\n",
            "[nltk_data]    |     /root/nltk_data...\n",
            "[nltk_data]    |   Unzipping corpora/city_database.zip.\n",
            "[nltk_data]    | Downloading package cmudict to /root/nltk_data...\n",
            "[nltk_data]    |   Unzipping corpora/cmudict.zip.\n",
            "[nltk_data]    | Downloading package comparative_sentences to\n",
            "[nltk_data]    |     /root/nltk_data...\n",
            "[nltk_data]    |   Unzipping corpora/comparative_sentences.zip.\n",
            "[nltk_data]    | Downloading package comtrans to /root/nltk_data...\n",
            "[nltk_data]    | Downloading package conll2000 to /root/nltk_data...\n",
            "[nltk_data]    |   Unzipping corpora/conll2000.zip.\n",
            "[nltk_data]    | Downloading package conll2002 to /root/nltk_data...\n",
            "[nltk_data]    |   Unzipping corpora/conll2002.zip.\n",
            "[nltk_data]    | Downloading package conll2007 to /root/nltk_data...\n",
            "[nltk_data]    | Downloading package crubadan to /root/nltk_data...\n",
            "[nltk_data]    |   Unzipping corpora/crubadan.zip.\n",
            "[nltk_data]    | Downloading package dependency_treebank to\n",
            "[nltk_data]    |     /root/nltk_data...\n",
            "[nltk_data]    |   Unzipping corpora/dependency_treebank.zip.\n",
            "[nltk_data]    | Downloading package dolch to /root/nltk_data...\n",
            "[nltk_data]    |   Unzipping corpora/dolch.zip.\n",
            "[nltk_data]    | Downloading package europarl_raw to\n",
            "[nltk_data]    |     /root/nltk_data...\n",
            "[nltk_data]    |   Unzipping corpora/europarl_raw.zip.\n",
            "[nltk_data]    | Downloading package extended_omw to\n",
            "[nltk_data]    |     /root/nltk_data...\n",
            "[nltk_data]    |   Unzipping corpora/extended_omw.zip.\n",
            "[nltk_data]    | Downloading package floresta to /root/nltk_data...\n",
            "[nltk_data]    |   Unzipping corpora/floresta.zip.\n",
            "[nltk_data]    | Downloading package framenet_v15 to\n",
            "[nltk_data]    |     /root/nltk_data...\n",
            "[nltk_data]    |   Unzipping corpora/framenet_v15.zip.\n",
            "[nltk_data]    | Downloading package framenet_v17 to\n",
            "[nltk_data]    |     /root/nltk_data...\n",
            "[nltk_data]    |   Unzipping corpora/framenet_v17.zip.\n",
            "[nltk_data]    | Downloading package gazetteers to /root/nltk_data...\n",
            "[nltk_data]    |   Unzipping corpora/gazetteers.zip.\n",
            "[nltk_data]    | Downloading package genesis to /root/nltk_data...\n",
            "[nltk_data]    |   Unzipping corpora/genesis.zip.\n",
            "[nltk_data]    | Downloading package gutenberg to /root/nltk_data...\n",
            "[nltk_data]    |   Unzipping corpora/gutenberg.zip.\n",
            "[nltk_data]    | Downloading package ieer to /root/nltk_data...\n",
            "[nltk_data]    |   Unzipping corpora/ieer.zip.\n",
            "[nltk_data]    | Downloading package inaugural to /root/nltk_data...\n",
            "[nltk_data]    |   Unzipping corpora/inaugural.zip.\n",
            "[nltk_data]    | Downloading package indian to /root/nltk_data...\n",
            "[nltk_data]    |   Unzipping corpora/indian.zip.\n",
            "[nltk_data]    | Downloading package jeita to /root/nltk_data...\n",
            "[nltk_data]    | Downloading package kimmo to /root/nltk_data...\n",
            "[nltk_data]    |   Unzipping corpora/kimmo.zip.\n",
            "[nltk_data]    | Downloading package knbc to /root/nltk_data...\n",
            "[nltk_data]    | Downloading package large_grammars to\n",
            "[nltk_data]    |     /root/nltk_data...\n",
            "[nltk_data]    |   Unzipping grammars/large_grammars.zip.\n",
            "[nltk_data]    | Downloading package lin_thesaurus to\n",
            "[nltk_data]    |     /root/nltk_data...\n",
            "[nltk_data]    |   Unzipping corpora/lin_thesaurus.zip.\n",
            "[nltk_data]    | Downloading package mac_morpho to /root/nltk_data...\n",
            "[nltk_data]    |   Unzipping corpora/mac_morpho.zip.\n",
            "[nltk_data]    | Downloading package machado to /root/nltk_data...\n",
            "[nltk_data]    | Downloading package masc_tagged to /root/nltk_data...\n",
            "[nltk_data]    | Downloading package maxent_ne_chunker to\n",
            "[nltk_data]    |     /root/nltk_data...\n",
            "[nltk_data]    |   Unzipping chunkers/maxent_ne_chunker.zip.\n",
            "[nltk_data]    | Downloading package maxent_treebank_pos_tagger to\n",
            "[nltk_data]    |     /root/nltk_data...\n",
            "[nltk_data]    |   Unzipping taggers/maxent_treebank_pos_tagger.zip.\n",
            "[nltk_data]    | Downloading package moses_sample to\n",
            "[nltk_data]    |     /root/nltk_data...\n",
            "[nltk_data]    |   Unzipping models/moses_sample.zip.\n",
            "[nltk_data]    | Downloading package movie_reviews to\n",
            "[nltk_data]    |     /root/nltk_data...\n",
            "[nltk_data]    |   Unzipping corpora/movie_reviews.zip.\n",
            "[nltk_data]    | Downloading package mte_teip5 to /root/nltk_data...\n",
            "[nltk_data]    |   Unzipping corpora/mte_teip5.zip.\n",
            "[nltk_data]    | Downloading package mwa_ppdb to /root/nltk_data...\n",
            "[nltk_data]    |   Unzipping misc/mwa_ppdb.zip.\n",
            "[nltk_data]    | Downloading package names to /root/nltk_data...\n",
            "[nltk_data]    |   Unzipping corpora/names.zip.\n",
            "[nltk_data]    | Downloading package nombank.1.0 to /root/nltk_data...\n",
            "[nltk_data]    | Downloading package nonbreaking_prefixes to\n",
            "[nltk_data]    |     /root/nltk_data...\n",
            "[nltk_data]    |   Unzipping corpora/nonbreaking_prefixes.zip.\n",
            "[nltk_data]    | Downloading package nps_chat to /root/nltk_data...\n",
            "[nltk_data]    |   Unzipping corpora/nps_chat.zip.\n",
            "[nltk_data]    | Downloading package omw to /root/nltk_data...\n",
            "[nltk_data]    |   Unzipping corpora/omw.zip.\n",
            "[nltk_data]    | Downloading package omw-1.4 to /root/nltk_data...\n",
            "[nltk_data]    |   Unzipping corpora/omw-1.4.zip.\n",
            "[nltk_data]    | Downloading package opinion_lexicon to\n",
            "[nltk_data]    |     /root/nltk_data...\n",
            "[nltk_data]    |   Unzipping corpora/opinion_lexicon.zip.\n",
            "[nltk_data]    | Downloading package panlex_swadesh to\n",
            "[nltk_data]    |     /root/nltk_data...\n",
            "[nltk_data]    | Downloading package paradigms to /root/nltk_data...\n",
            "[nltk_data]    |   Unzipping corpora/paradigms.zip.\n",
            "[nltk_data]    | Downloading package pe08 to /root/nltk_data...\n",
            "[nltk_data]    |   Unzipping corpora/pe08.zip.\n",
            "[nltk_data]    | Downloading package perluniprops to\n",
            "[nltk_data]    |     /root/nltk_data...\n",
            "[nltk_data]    |   Unzipping misc/perluniprops.zip.\n",
            "[nltk_data]    | Downloading package pil to /root/nltk_data...\n",
            "[nltk_data]    |   Unzipping corpora/pil.zip.\n",
            "[nltk_data]    | Downloading package pl196x to /root/nltk_data...\n",
            "[nltk_data]    |   Unzipping corpora/pl196x.zip.\n",
            "[nltk_data]    | Downloading package porter_test to /root/nltk_data...\n",
            "[nltk_data]    |   Unzipping stemmers/porter_test.zip.\n",
            "[nltk_data]    | Downloading package ppattach to /root/nltk_data...\n",
            "[nltk_data]    |   Unzipping corpora/ppattach.zip.\n",
            "[nltk_data]    | Downloading package problem_reports to\n",
            "[nltk_data]    |     /root/nltk_data...\n",
            "[nltk_data]    |   Unzipping corpora/problem_reports.zip.\n",
            "[nltk_data]    | Downloading package product_reviews_1 to\n",
            "[nltk_data]    |     /root/nltk_data...\n",
            "[nltk_data]    |   Unzipping corpora/product_reviews_1.zip.\n",
            "[nltk_data]    | Downloading package product_reviews_2 to\n",
            "[nltk_data]    |     /root/nltk_data...\n",
            "[nltk_data]    |   Unzipping corpora/product_reviews_2.zip.\n",
            "[nltk_data]    | Downloading package propbank to /root/nltk_data...\n",
            "[nltk_data]    | Downloading package pros_cons to /root/nltk_data...\n",
            "[nltk_data]    |   Unzipping corpora/pros_cons.zip.\n",
            "[nltk_data]    | Downloading package ptb to /root/nltk_data...\n",
            "[nltk_data]    |   Unzipping corpora/ptb.zip.\n",
            "[nltk_data]    | Downloading package punkt to /root/nltk_data...\n",
            "[nltk_data]    |   Unzipping tokenizers/punkt.zip.\n",
            "[nltk_data]    | Downloading package qc to /root/nltk_data...\n",
            "[nltk_data]    |   Unzipping corpora/qc.zip.\n",
            "[nltk_data]    | Downloading package reuters to /root/nltk_data...\n",
            "[nltk_data]    | Downloading package rslp to /root/nltk_data...\n",
            "[nltk_data]    |   Unzipping stemmers/rslp.zip.\n",
            "[nltk_data]    | Downloading package rte to /root/nltk_data...\n",
            "[nltk_data]    |   Unzipping corpora/rte.zip.\n",
            "[nltk_data]    | Downloading package sample_grammars to\n",
            "[nltk_data]    |     /root/nltk_data...\n",
            "[nltk_data]    |   Unzipping grammars/sample_grammars.zip.\n",
            "[nltk_data]    | Downloading package semcor to /root/nltk_data...\n",
            "[nltk_data]    | Downloading package senseval to /root/nltk_data...\n",
            "[nltk_data]    |   Unzipping corpora/senseval.zip.\n",
            "[nltk_data]    | Downloading package sentence_polarity to\n",
            "[nltk_data]    |     /root/nltk_data...\n",
            "[nltk_data]    |   Unzipping corpora/sentence_polarity.zip.\n",
            "[nltk_data]    | Downloading package sentiwordnet to\n",
            "[nltk_data]    |     /root/nltk_data...\n",
            "[nltk_data]    |   Unzipping corpora/sentiwordnet.zip.\n",
            "[nltk_data]    | Downloading package shakespeare to /root/nltk_data...\n",
            "[nltk_data]    |   Unzipping corpora/shakespeare.zip.\n",
            "[nltk_data]    | Downloading package sinica_treebank to\n",
            "[nltk_data]    |     /root/nltk_data...\n",
            "[nltk_data]    |   Unzipping corpora/sinica_treebank.zip.\n",
            "[nltk_data]    | Downloading package smultron to /root/nltk_data...\n",
            "[nltk_data]    |   Unzipping corpora/smultron.zip.\n",
            "[nltk_data]    | Downloading package snowball_data to\n",
            "[nltk_data]    |     /root/nltk_data...\n",
            "[nltk_data]    | Downloading package spanish_grammars to\n",
            "[nltk_data]    |     /root/nltk_data...\n",
            "[nltk_data]    |   Unzipping grammars/spanish_grammars.zip.\n",
            "[nltk_data]    | Downloading package state_union to /root/nltk_data...\n",
            "[nltk_data]    |   Unzipping corpora/state_union.zip.\n",
            "[nltk_data]    | Downloading package stopwords to /root/nltk_data...\n",
            "[nltk_data]    |   Unzipping corpora/stopwords.zip.\n",
            "[nltk_data]    | Downloading package subjectivity to\n",
            "[nltk_data]    |     /root/nltk_data...\n",
            "[nltk_data]    |   Unzipping corpora/subjectivity.zip.\n",
            "[nltk_data]    | Downloading package swadesh to /root/nltk_data...\n",
            "[nltk_data]    |   Unzipping corpora/swadesh.zip.\n",
            "[nltk_data]    | Downloading package switchboard to /root/nltk_data...\n",
            "[nltk_data]    |   Unzipping corpora/switchboard.zip.\n",
            "[nltk_data]    | Downloading package tagsets to /root/nltk_data...\n",
            "[nltk_data]    |   Unzipping help/tagsets.zip.\n",
            "[nltk_data]    | Downloading package timit to /root/nltk_data...\n",
            "[nltk_data]    |   Unzipping corpora/timit.zip.\n",
            "[nltk_data]    | Downloading package toolbox to /root/nltk_data...\n",
            "[nltk_data]    |   Unzipping corpora/toolbox.zip.\n",
            "[nltk_data]    | Downloading package treebank to /root/nltk_data...\n",
            "[nltk_data]    |   Unzipping corpora/treebank.zip.\n",
            "[nltk_data]    | Downloading package twitter_samples to\n",
            "[nltk_data]    |     /root/nltk_data...\n",
            "[nltk_data]    |   Unzipping corpora/twitter_samples.zip.\n",
            "[nltk_data]    | Downloading package udhr to /root/nltk_data...\n",
            "[nltk_data]    |   Unzipping corpora/udhr.zip.\n",
            "[nltk_data]    | Downloading package udhr2 to /root/nltk_data...\n",
            "[nltk_data]    |   Unzipping corpora/udhr2.zip.\n",
            "[nltk_data]    | Downloading package unicode_samples to\n",
            "[nltk_data]    |     /root/nltk_data...\n",
            "[nltk_data]    |   Unzipping corpora/unicode_samples.zip.\n",
            "[nltk_data]    | Downloading package universal_tagset to\n",
            "[nltk_data]    |     /root/nltk_data...\n",
            "[nltk_data]    |   Unzipping taggers/universal_tagset.zip.\n",
            "[nltk_data]    | Downloading package universal_treebanks_v20 to\n",
            "[nltk_data]    |     /root/nltk_data...\n",
            "[nltk_data]    | Downloading package vader_lexicon to\n",
            "[nltk_data]    |     /root/nltk_data...\n",
            "[nltk_data]    | Downloading package verbnet to /root/nltk_data...\n",
            "[nltk_data]    |   Unzipping corpora/verbnet.zip.\n",
            "[nltk_data]    | Downloading package verbnet3 to /root/nltk_data...\n",
            "[nltk_data]    |   Unzipping corpora/verbnet3.zip.\n",
            "[nltk_data]    | Downloading package webtext to /root/nltk_data...\n",
            "[nltk_data]    |   Unzipping corpora/webtext.zip.\n",
            "[nltk_data]    | Downloading package wmt15_eval to /root/nltk_data...\n",
            "[nltk_data]    |   Unzipping models/wmt15_eval.zip.\n",
            "[nltk_data]    | Downloading package word2vec_sample to\n",
            "[nltk_data]    |     /root/nltk_data...\n",
            "[nltk_data]    |   Unzipping models/word2vec_sample.zip.\n",
            "[nltk_data]    | Downloading package wordnet to /root/nltk_data...\n",
            "[nltk_data]    |   Unzipping corpora/wordnet.zip.\n",
            "[nltk_data]    | Downloading package wordnet2021 to /root/nltk_data...\n",
            "[nltk_data]    |   Unzipping corpora/wordnet2021.zip.\n",
            "[nltk_data]    | Downloading package wordnet31 to /root/nltk_data...\n",
            "[nltk_data]    |   Unzipping corpora/wordnet31.zip.\n",
            "[nltk_data]    | Downloading package wordnet_ic to /root/nltk_data...\n",
            "[nltk_data]    |   Unzipping corpora/wordnet_ic.zip.\n",
            "[nltk_data]    | Downloading package words to /root/nltk_data...\n",
            "[nltk_data]    |   Unzipping corpora/words.zip.\n",
            "[nltk_data]    | Downloading package ycoe to /root/nltk_data...\n",
            "[nltk_data]    |   Unzipping corpora/ycoe.zip.\n",
            "[nltk_data]    | \n",
            "[nltk_data]  Done downloading collection all\n"
          ]
        }
      ],
      "source": [
        "import pandas as pd\n",
        "import numpy as np\n",
        "import string\n",
        "from string import digits\n",
        "import matplotlib.pyplot as plt\n",
        "%matplotlib inline\n",
        "import re\n",
        "from sklearn.utils import shuffle\n",
        "from sklearn.model_selection import train_test_split\n",
        "import tensorflow as tf\n",
        "import nltk\n",
        "nltk.download('all')\n",
        "from nltk.tokenize import word_tokenize\n",
        "from tqdm import tqdm\n"
      ]
    },
    {
      "cell_type": "code",
      "source": [
        "cd /content/drive/MyDrive/Dataset/English_Assamese"
      ],
      "metadata": {
        "colab": {
          "base_uri": "https://localhost:8080/"
        },
        "id": "Mx4Qs2Ca9eld",
        "outputId": "2359f553-c980-4aaa-ceb4-fcae6eb7d0aa"
      },
      "execution_count": 3,
      "outputs": [
        {
          "output_type": "stream",
          "name": "stdout",
          "text": [
            "/content/drive/MyDrive/Dataset/English_Assamese\n"
          ]
        }
      ]
    },
    {
      "cell_type": "markdown",
      "source": [
        "### Load the dataset"
      ],
      "metadata": {
        "id": "T4fcLLgE-YG8"
      }
    },
    {
      "cell_type": "code",
      "source": [
        "text_english = pd.read_table('train.en',names = ['eng'])\n",
        "text_assamese = pd.read_table('train.as',names = ['ass'])\n",
        "text_en_as = pd.concat([text_english,text_assamese],axis=1)"
      ],
      "metadata": {
        "id": "Da5CfOH08QlU"
      },
      "execution_count": 4,
      "outputs": []
    },
    {
      "cell_type": "code",
      "source": [
        "# Removing orders of rank like:\n",
        "# rd nd st th\n",
        "text_en_as = text_en_as.applymap(lambda x: re.sub(r\"\"\"(?<=[0-9])st\"\"\",\" \",x))\n",
        "text_en_as = text_en_as.applymap(lambda x: re.sub(r\"\"\"(?<=[0-9])nd\"\"\",\" \",x))\n",
        "text_en_as = text_en_as.applymap(lambda x: re.sub(r\"\"\"(?<=[0-9])rd\"\"\",\" \",x))\n",
        "text_en_as = text_en_as.applymap(lambda x: re.sub(r\"\"\"(?<=[0-9])th\"\"\",\" \",x))\n",
        "\n",
        "# Remove numbers\n",
        "text_en_as = text_en_as.applymap(lambda x: re.sub(r\"\"\"[০-৯0-9]+\"\"\",\" \",x))"
      ],
      "metadata": {
        "id": "sZ28_BhRqTFj"
      },
      "execution_count": 5,
      "outputs": []
    },
    {
      "cell_type": "code",
      "source": [
        "text_en_as = text_en_as.applymap(lambda x: x.lower())\n",
        "# Assamese target sentence also contains multiple english words which are not translated\n",
        "# we are removing those words\n",
        "text_en_as['ass'] = text_en_as.ass.map(lambda x: re.sub(r\"\"\"[a-zA-Z]+\"\"\",\" \",x))\n",
        "# It also contains lots of arabic and other language characters\n",
        "text_en_as['ass'] = text_en_as.ass.map(lambda x: re.sub(r\"\"\"[©«нб³°µ»×àáãäæŋçèéíöāčīōŕśˈːˌɒəɡɪɹʃˈ∕æʊəɑвремяωσπδαπ]+\"\"\",\" \",x))\n",
        "text_en_as['ass'] = text_en_as.ass.map(lambda x: re.sub(r\"\"\"[ɱθатскоإله کراچی هارون علامهالله بهاء]\"\"\",\" \",x))\n",
        "# removing hindi characters\n",
        "text_en_as['ass'] = text_en_as.ass.map(lambda x: re.sub(r\"\"\"[क ख ग घ ङ च छ ज झ ञ ट ठ ड ढ ण त थ द ध न प फ ब भ म य र ल व श ष स ह क्ष त्र ज्ञ]\"\"\",\" \",x))"
      ],
      "metadata": {
        "id": "yMO9GysOweOs"
      },
      "execution_count": 6,
      "outputs": []
    },
    {
      "cell_type": "code",
      "source": [
        "# Drop all the lenghtly sentences\n",
        "text_en_as.drop([  2054,   3126,   5270,  22353,  40791,  46584,  51247,  51935,\n",
        "             69096,  78242,  79333,  91550, 100048],inplace = True)"
      ],
      "metadata": {
        "id": "Y6OHGeqm2Qv2"
      },
      "execution_count": 7,
      "outputs": []
    },
    {
      "cell_type": "code",
      "source": [
        "# Removing quotes, special charcters, assamese number\n",
        "text_en_as = text_en_as.applymap(lambda x: re.sub(r\"\"\"[!\"#$%&:“’‘'()*+,-.\\/\\\\;<=>?@[\\]^_`{|}~।]\"\"\",\" \",x))\n",
        "text_en_as = text_en_as.applymap(lambda x: x.strip())\n",
        "text_en_as = text_en_as.applymap(lambda x: re.sub(r\" +\",\" \",x))\n",
        "text_en_as['ass'] = text_en_as.ass.apply(lambda x: 'START_ '+x+' _END')"
      ],
      "metadata": {
        "id": "TjQ2Z4W8-FZd"
      },
      "execution_count": 8,
      "outputs": []
    },
    {
      "cell_type": "code",
      "source": [
        "# Finding all the vocab\n",
        "def get_vocab(df,tokens):\n",
        "  vocab_list = set()\n",
        "  for sent in tqdm(df[tokens]):\n",
        "    for word in sent:\n",
        "      if word not in vocab_list:\n",
        "          vocab_list.add(word)\n",
        "  \n",
        "  return vocab_list\n",
        "\n",
        "text_en_as['ass_tokens'] = text_en_as.ass.apply(lambda x:word_tokenize(x))\n",
        "text_en_as['eng_tokens'] = text_en_as.eng.apply(lambda x:word_tokenize(x))\n",
        "\n",
        "eng_vocab = get_vocab(text_en_as,'eng_tokens')\n",
        "ass_vocab = get_vocab(text_en_as,'ass_tokens')"
      ],
      "metadata": {
        "colab": {
          "base_uri": "https://localhost:8080/"
        },
        "id": "oAJ1riJUeR6P",
        "outputId": "ab75bf43-7815-4bfd-ef9c-f353f069ebea"
      },
      "execution_count": 9,
      "outputs": [
        {
          "output_type": "stream",
          "name": "stderr",
          "text": [
            "100%|██████████| 138340/138340 [00:00<00:00, 459285.37it/s]\n",
            "100%|██████████| 138340/138340 [00:00<00:00, 391649.18it/s]\n"
          ]
        }
      ]
    },
    {
      "cell_type": "code",
      "source": [
        "# Finding the max length of source\n",
        "# And the target sequence\n",
        "def find_max_length(df,lang):\n",
        "  lenght_list=[]\n",
        "  for l in df[lang]:\n",
        "      lenght_list.append(len(l.split(' ')))\n",
        "  max_length_src = np.max(lenght_list)\n",
        "  print(max_length_src)\n",
        "  \n",
        "  return lenght_list\n",
        "\n",
        "eng_seq = find_max_length(text_en_as,'eng')\n",
        "ass_seq = find_max_length(text_en_as,'ass')\n",
        "\n",
        "max_length_encoder = np.max(eng_seq)\n",
        "max_length_decoder = np.max(ass_seq)"
      ],
      "metadata": {
        "id": "zDhlRS9On2Zg",
        "colab": {
          "base_uri": "https://localhost:8080/"
        },
        "outputId": "c820a101-2fc7-413c-81e0-6de45879fdba"
      },
      "execution_count": 10,
      "outputs": [
        {
          "output_type": "stream",
          "name": "stdout",
          "text": [
            "169\n",
            "164\n"
          ]
        }
      ]
    },
    {
      "cell_type": "code",
      "source": [
        "import plotly.express as px\n",
        "import plotly.graph_objects as go\n",
        "import plotly.figure_factory as ff\n",
        "\n",
        "df_len_ass = pd.DataFrame({\"len\":ass_seq})\n",
        "hist_data = [np.array(df_len_ass[df_len_ass['len']<50].len)]\n",
        "group_labels = ['length']\n",
        "\n",
        "fig = ff.create_distplot(hist_data, group_labels)\n",
        "fig.update_layout(title_text=\"Length of Assamese Sequences\")\n",
        "fig.show()"
      ],
      "metadata": {
        "id": "0jiSj_UALU4T"
      },
      "execution_count": null,
      "outputs": []
    },
    {
      "cell_type": "code",
      "source": [
        "import plotly.figure_factory as ff\n",
        "import numpy as np\n",
        "\n",
        "hist_data = [eng_seq]\n",
        "group_labels = ['distplot'] # name of the dataset\n",
        "\n",
        "fig = ff.create_distplot(hist_data, group_labels)\n",
        "fig.show()"
      ],
      "metadata": {
        "id": "WSCPqaDcy4uC"
      },
      "execution_count": null,
      "outputs": []
    },
    {
      "cell_type": "code",
      "source": [
        "# Calculate Vocab size for both source and target\n",
        "input_words = sorted(list(eng_vocab))\n",
        "target_words = sorted(list(ass_vocab))\n",
        "num_encoder_tokens = len(eng_vocab)\n",
        "num_decoder_tokens = len(ass_vocab)\n",
        "num_decoder_tokens += 1 # For zero padding\n",
        "\n",
        "# Create word to token dictionary for both source and target\n",
        "input_token_index = dict([(word, i+1) for i, word in enumerate(input_words)])\n",
        "target_token_index = dict([(word, i+1) for i, word in enumerate(target_words)])\n",
        "\n",
        "# Create token to word dictionary for both source and target\n",
        "reverse_input_char_index = dict((i, word) for word, i in input_token_index.items())\n",
        "reverse_target_char_index = dict((i, word) for word, i in target_token_index.items())"
      ],
      "metadata": {
        "id": "aP6wYHnLAash"
      },
      "execution_count": 11,
      "outputs": []
    },
    {
      "cell_type": "markdown",
      "source": [
        "## Train-Test Split and Batch Generation"
      ],
      "metadata": {
        "id": "UCZBHcm26aug"
      }
    },
    {
      "cell_type": "code",
      "source": [
        "# Train - Test Split\n",
        "X, y = text_en_as.eng, text_en_as.ass\n",
        "X_train, X_test, y_train, y_test = train_test_split(X, y, test_size = 0.1)"
      ],
      "metadata": {
        "id": "6jbg8_g11Q6Y"
      },
      "execution_count": 12,
      "outputs": []
    },
    {
      "cell_type": "code",
      "source": [
        "def generate_batch(X_train,y_train, batch_size):\n",
        "    ''' Generate a batch of data '''\n",
        "    while True:\n",
        "        for j in range(0, len(X), batch_size):\n",
        "            encoder_input_data = np.zeros((batch_size, max_length_encoder),dtype='float32')\n",
        "            decoder_input_data = np.zeros((batch_size, max_length_decoder),dtype='float32')\n",
        "            decoder_target_data = np.zeros((batch_size, max_length_decoder, num_decoder_tokens),dtype='float32')\n",
        "            for i, (input_text, target_text) in enumerate(zip(X[j:j+batch_size], y[j:j+batch_size])):\n",
        "                for t, word in enumerate(word_tokenize(input_text)):\n",
        "                    encoder_input_data[i, t] = input_token_index[word] # encoder input seq\n",
        "                for t, word in enumerate(word_tokenize(target_text)):\n",
        "                    if t<len(word_tokenize(target_text))-1:\n",
        "                        decoder_input_data[i, t] = target_token_index[word] # decoder input seq\n",
        "                    if t>0:\n",
        "                        # decoder target sequence (one hot encoded)\n",
        "                        # does not include the START_ token\n",
        "                        # Offset by one timestep\n",
        "                        decoder_target_data[i, t - 1, target_token_index[word]] = 1.\n",
        "            yield([encoder_input_data, decoder_input_data], decoder_target_data)"
      ],
      "metadata": {
        "id": "Ycnh-LcChBel"
      },
      "execution_count": 70,
      "outputs": []
    },
    {
      "cell_type": "markdown",
      "source": [
        "## Detect and Start TPU"
      ],
      "metadata": {
        "id": "rWAzUMKdJJh2"
      }
    },
    {
      "cell_type": "code",
      "source": [
        "def check_tpu():\n",
        "  tpu = tf.distribute.cluster_resolver.TPUClusterResolver()\n",
        "  tf.config.experimental_connect_to_cluster(tpu)\n",
        "  tf.tpu.experimental.initialize_tpu_system(tpu)\n",
        "  tpu_strategy = tf.distribute.experimental.TPUStrategy(tpu)\n",
        "\n",
        "  return tpu_strategy\n",
        "\n",
        "tpu_strategy = check_tpu()"
      ],
      "metadata": {
        "id": "oCiEKfDoJIda"
      },
      "execution_count": null,
      "outputs": []
    },
    {
      "cell_type": "markdown",
      "source": [
        "## Encoder - Decoder Model Architecture"
      ],
      "metadata": {
        "id": "EBIPpz2S6hMX"
      }
    },
    {
      "cell_type": "code",
      "source": [
        "# Latent Dimention or the number of units in the LSTM cell\n",
        "# Our encoder batch size is 128 and max_length_encoder is 169\n",
        "\"\"\"input to LSTM : 128(Batch Size) x 169(Number of words) x 300(Dimension of Each Word)\n",
        "\"\"\"\n",
        "latent_dim = 64\n",
        "word_dim = 100\n",
        "\n",
        "\"\"\"------------------------------ENCODER------------------------------\n",
        "\"\"\"\n",
        "enc_inputs = tf.keras.Input(shape=(max_length_encoder,),\n",
        "                                batch_size = 32)\n",
        "enc_embed = tf.keras.layers.Embedding(num_encoder_tokens,word_dim,mask_zero=True,input_length = max_length_encoder)(enc_inputs)\n",
        "enc_outputs, state_h, state_c  = tf.keras.layers.LSTM(latent_dim,return_state = True)(enc_embed)\n",
        "encoder_states = [state_h,state_c]\n",
        "\n",
        "\"\"\"------------------------------DECODER------------------------------\n",
        "\"\"\"\n",
        "dec_inputs = tf.keras.Input(shape=(max_length_decoder,),\n",
        "                            batch_size = 32)\n",
        "dec_embed  = tf.keras.layers.Embedding(num_decoder_tokens,word_dim,mask_zero=True)(dec_inputs)\n",
        "dec_output,dec_h,dec_c  = tf.keras.layers.LSTM(latent_dim,return_sequences=True,return_state=True)(dec_embed,initial_state=encoder_states)\n",
        "dec_outputs = tf.keras.layers.Dense(num_decoder_tokens,activation='softmax')(dec_output)\n",
        "\n",
        "\"\"\"------------------------------COMPILE------------------------------\n",
        "\"\"\"\n",
        "model = tf.keras.Model([enc_inputs,dec_inputs],dec_outputs)\n",
        "model.compile(optimizer='adam',loss='categorical_crossentropy',metrics=['acc'])"
      ],
      "metadata": {
        "id": "lVnKTfmWCUUf"
      },
      "execution_count": 62,
      "outputs": []
    },
    {
      "cell_type": "code",
      "source": [
        "train_samples = len(X_train)\n",
        "val_samples = len(X_test)\n",
        "batch_size = 32\n",
        "epochs = 50"
      ],
      "metadata": {
        "id": "vB_Nlnc5CcaR"
      },
      "execution_count": null,
      "outputs": []
    },
    {
      "cell_type": "code",
      "source": [
        "model_checkpoint_callback = tf.keras.callbacks.ModelCheckpoint(\n",
        "                                                                filepath=\"model_{epoch:02d}.hdf5\",\n",
        "                                                                save_weights_only=True,\n",
        "                                                                monitor='val_accuracy',\n",
        "                                                                mode='auto',\n",
        "                                                                save_freq = 'epoch')"
      ],
      "metadata": {
        "id": "wpWDy14lLtbu"
      },
      "execution_count": null,
      "outputs": []
    },
    {
      "cell_type": "code",
      "source": [
        "model.fit(generate_batch(X_train,y_train, batch_size),\n",
        "          steps_per_epoch = train_samples/batch_size,\n",
        "          epochs = epochs,\n",
        "          validation_data = generate_batch(X_test,y_test,batch_size),\n",
        "          validation_steps = val_samples/batch_size,\n",
        "          callbacks=[model_checkpoint_callback])"
      ],
      "metadata": {
        "id": "17-eKyvR-Hvb"
      },
      "execution_count": null,
      "outputs": []
    },
    {
      "cell_type": "code",
      "source": [
        "model.save_weights('nmt_weights.h5')"
      ],
      "metadata": {
        "id": "-JMF8SikIPpe"
      },
      "execution_count": null,
      "outputs": []
    },
    {
      "cell_type": "code",
      "source": [
        "model.load_weights('model_21.hdf5')"
      ],
      "metadata": {
        "id": "Ucd7Pu9-Ls1B"
      },
      "execution_count": 63,
      "outputs": []
    },
    {
      "cell_type": "code",
      "source": [
        "tf.keras.utils.plot_model(model, to_file='img.png', show_shapes=True)"
      ],
      "metadata": {
        "id": "Md7HcmGNNq4h",
        "colab": {
          "base_uri": "https://localhost:8080/",
          "height": 533
        },
        "outputId": "87694505-b48a-4357-bc80-943fbb934294"
      },
      "execution_count": 21,
      "outputs": [
        {
          "output_type": "execute_result",
          "data": {
            "image/png": "[encoded data removed]",
            "text/plain": [
              "<IPython.core.display.Image object>"
            ]
          },
          "metadata": {},
          "execution_count": 21
        }
      ]
    },
    {
      "cell_type": "code",
      "source": [
        "re_model.summary()"
      ],
      "metadata": {
        "colab": {
          "base_uri": "https://localhost:8080/"
        },
        "id": "W-nUg7li84J4",
        "outputId": "1493be69-9eab-4559-b637-bd0069a038ed"
      },
      "execution_count": 53,
      "outputs": [
        {
          "output_type": "stream",
          "name": "stdout",
          "text": [
            "Model: \"model_1\"\n",
            "__________________________________________________________________________________________________\n",
            " Layer (type)                   Output Shape         Param #     Connected to                     \n",
            "==================================================================================================\n",
            " input_1 (InputLayer)           [(32, 169)]          0           []                               \n",
            "                                                                                                  \n",
            " input_2 (InputLayer)           [(32, 164)]          0           []                               \n",
            "                                                                                                  \n",
            " embedding (Embedding)          (32, 169, 100)       3583200     ['input_1[0][0]']                \n",
            "                                                                                                  \n",
            " embedding_1 (Embedding)        (32, 164, 100)       7860600     ['input_2[0][0]']                \n",
            "                                                                                                  \n",
            " lstm (LSTM)                    [(32, 64),           42240       ['embedding[1][0]']              \n",
            "                                 (32, 64),                                                        \n",
            "                                 (32, 64)]                                                        \n",
            "                                                                                                  \n",
            " lstm_1 (LSTM)                  [(32, 164, 64),      42240       ['embedding_1[1][0]',            \n",
            "                                 (32, 64),                        'lstm[1][1]',                   \n",
            "                                 (32, 64)]                        'lstm[1][2]']                   \n",
            "                                                                                                  \n",
            " dense (Dense)                  (32, 164, 78606)     5109390     ['lstm_1[1][0]']                 \n",
            "                                                                                                  \n",
            "==================================================================================================\n",
            "Total params: 16,637,670\n",
            "Trainable params: 16,637,670\n",
            "Non-trainable params: 0\n",
            "__________________________________________________________________________________________________\n"
          ]
        }
      ]
    },
    {
      "cell_type": "code",
      "source": [
        "model.layers[0]"
      ],
      "metadata": {
        "colab": {
          "base_uri": "https://localhost:8080/"
        },
        "id": "BSr51hjdB698",
        "outputId": "072437c6-ca51-4c7d-bfa3-1b6cdbab9de4"
      },
      "execution_count": 46,
      "outputs": [
        {
          "output_type": "execute_result",
          "data": {
            "text/plain": [
              "<keras.engine.input_layer.InputLayer at 0x7f918839f8d0>"
            ]
          },
          "metadata": {},
          "execution_count": 46
        }
      ]
    },
    {
      "cell_type": "code",
      "source": [
        "# MODEL RECONSTRUCTION\n",
        "\n",
        "\"\"\"------------------------------ENCODER------------------------------\n",
        "\"\"\"\n",
        "enc_inputs = model.input[0]\n",
        "enc_embed = model.layers[2](enc_inputs)\n",
        "enc_outputs, state_h, state_c  = model.layers[4](enc_embed)\n",
        "encoder_states = [state_h,state_c]\n",
        "\n",
        "\"\"\"------------------------------DECODER------------------------------\n",
        "\"\"\"\n",
        "dec_inputs =model.input[1]\n",
        "dec_embed  = model.layers[3](dec_inputs)\n",
        "dec_output,dec_h,dec_c  = model.layers[5](dec_embed,initial_state=encoder_states)\n",
        "dec_outputs = model.layers[6](dec_output)\n",
        "\n",
        "\"\"\"------------------------------COMPILE------------------------------\n",
        "\"\"\"\n",
        "re_model = tf.keras.Model([enc_inputs,dec_inputs],dec_outputs)\n",
        "# re_model.compile(optimizer='adam',loss='categorical_crossentropy',metrics=['acc'])"
      ],
      "metadata": {
        "id": "i1drY8Vi9Vi_"
      },
      "execution_count": 47,
      "outputs": []
    },
    {
      "cell_type": "code",
      "source": [
        "latent_dim = 64\n",
        "word_dim = 100\n",
        "encoder_model = tf.keras.Model(enc_inputs, encoder_states)\n",
        "\n",
        "# Decoder setup\n",
        "# Below tensors will hold the states of the previous time step\n",
        "decoder_state_input_h = tf.keras.Input(shape=(latent_dim,))\n",
        "decoder_state_input_c = tf.keras.Input(shape=(latent_dim,))\n",
        "\n",
        "decoder_states_inputs = [decoder_state_input_h, decoder_state_input_c]\n",
        "\n",
        "dec_embed = model.layers[3](dec_inputs)\n",
        "dec_output,dec_h,dec_c = model.layers[5](dec_embed,initial_state=decoder_states_inputs)\n",
        "dec_hidden_and_cell = [dec_h,dec_c]\n",
        "\n",
        "dec_dense_out = model.layers[6](dec_output)\n",
        "dec_model = tf.keras.Model(\n",
        "    [dec_inputs] + decoder_states_inputs,\n",
        "    [dec_dense_out] + dec_hidden_and_cell\n",
        ")"
      ],
      "metadata": {
        "id": "Cnrbav58DCyS"
      },
      "execution_count": 64,
      "outputs": []
    },
    {
      "cell_type": "code",
      "source": [
        "dec_model.summary()"
      ],
      "metadata": {
        "colab": {
          "base_uri": "https://localhost:8080/"
        },
        "id": "JCbL816Fkz_h",
        "outputId": "d046be78-81c6-4cb1-a6d2-fa582a67e815"
      },
      "execution_count": 68,
      "outputs": [
        {
          "output_type": "stream",
          "name": "stdout",
          "text": [
            "Model: \"model_7\"\n",
            "__________________________________________________________________________________________________\n",
            " Layer (type)                   Output Shape         Param #     Connected to                     \n",
            "==================================================================================================\n",
            " input_8 (InputLayer)           [(32, 164)]          0           []                               \n",
            "                                                                                                  \n",
            " embedding_3 (Embedding)        (32, 164, 100)       7860600     ['input_8[0][0]']                \n",
            "                                                                                                  \n",
            " input_9 (InputLayer)           [(None, 64)]         0           []                               \n",
            "                                                                                                  \n",
            " input_10 (InputLayer)          [(None, 64)]         0           []                               \n",
            "                                                                                                  \n",
            " lstm_3 (LSTM)                  multiple             42240       ['embedding_3[1][0]',            \n",
            "                                                                  'input_9[0][0]',                \n",
            "                                                                  'input_10[0][0]']               \n",
            "                                                                                                  \n",
            " dense_1 (Dense)                (32, 164, 78606)     5109390     ['lstm_3[1][0]']                 \n",
            "                                                                                                  \n",
            "==================================================================================================\n",
            "Total params: 13,012,230\n",
            "Trainable params: 13,012,230\n",
            "Non-trainable params: 0\n",
            "__________________________________________________________________________________________________\n"
          ]
        }
      ]
    },
    {
      "cell_type": "code",
      "source": [
        "def decode_sequence(input_seq):\n",
        "    # Encode the input as state vectors.\n",
        "    states_value = encoder_model.predict(input_seq)\n",
        "    \n",
        "    # Generate empty target sequence of length 1.\n",
        "    target_seq = np.zeros((1,1))\n",
        "    \n",
        "    # Populate the first character of target sequence with the start character.\n",
        "    target_seq[0, 0] = target_token_index['START_']\n",
        "    \n",
        "    # Sampling loop for a batch of sequences\n",
        "    # (to simplify, here we assume a batch of size 1).\n",
        "    stop_condition = False\n",
        "    decoded_sentence = ''\n",
        "    \n",
        "    while not stop_condition:\n",
        "        output_tokens, h, c = dec_model.predict([target_seq] + states_value)\n",
        "        # Sample a token\n",
        "        sampled_token_index = np.argmax(output_tokens[0, -1, :])\n",
        "        sampled_char = reverse_target_char_index[sampled_token_index]\n",
        "        decoded_sentence += ' '+sampled_char\n",
        "        \n",
        "        # Exit condition: either hit max length or find stop token.\n",
        "        if (sampled_char == '_END' or len(decoded_sentence) > 50):\n",
        "            stop_condition = True\n",
        "        \n",
        "        # Update the target sequence (of length 1).\n",
        "        target_seq = np.zeros((1,1))\n",
        "        target_seq[0, 0] = sampled_token_index\n",
        "        \n",
        "        # Update states\n",
        "        states_value = [h, c]\n",
        "    \n",
        "    return decoded_sentence"
      ],
      "metadata": {
        "id": "O_Ty1tX2HyEI"
      },
      "execution_count": 106,
      "outputs": []
    },
    {
      "cell_type": "code",
      "source": [
        "train_gen = generate_batch(X_train, y_train, batch_size = 32)\n",
        "k=-1\n",
        "(input_seq, actual_output), _ = next(train_gen)\n",
        "k+=1"
      ],
      "metadata": {
        "id": "7gubnOBtteN0"
      },
      "execution_count": 209,
      "outputs": []
    },
    {
      "cell_type": "code",
      "source": [
        "target_seq = np.zeros((32,1))\n",
        "for idx,row in enumerate(target_seq):\n",
        "  target_seq[idx][0] = target_token_index['START_']\n",
        "pred = encoder_model.predict(input_seq)\n",
        "\n",
        "stop_condition = False\n",
        "decoded_sentence = ['']*32\n",
        "while not stop_condition:\n",
        "        output_tokens, h, c = dec_model.predict([target_seq] + pred)\n",
        "        # Sample a token\n",
        "        target_seq = np.zeros((32,1))\n",
        "        for idx in range(32):\n",
        "          sampled_token_index = np.argmax(output_tokens[idx, -1, :])\n",
        "          sampled_char = reverse_target_char_index[sampled_token_index]\n",
        "          decoded_sentence[idx] += ' '+sampled_char\n",
        "\n",
        "          target_seq[idx, 0] = sampled_token_index\n",
        "          if ( len(decoded_sentence[idx]) > 150):\n",
        "            stop_condition = True\n",
        "\n",
        "        states_value = [h, c]"
      ],
      "metadata": {
        "id": "K3XJuSsIuu3J"
      },
      "execution_count": 217,
      "outputs": []
    },
    {
      "cell_type": "code",
      "source": [
        "for idx in range(32):\n",
        "  print('Input English sentence:', X_train[k:k+32].values[idx])\n",
        "  print('Actual Assamese Translation:', y_train[k:k+32].values[idx])\n",
        "  print('Predicted Assamese Translation:', decoded_sentence[idx])\n",
        "  print(\"\\n \\n\")"
      ],
      "metadata": {
        "id": "f5gD6SHD1GGG"
      },
      "execution_count": null,
      "outputs": []
    },
    {
      "cell_type": "code",
      "source": [
        ""
      ],
      "metadata": {
        "id": "MnDweBs13zhx"
      },
      "execution_count": null,
      "outputs": []
    }
  ]
}